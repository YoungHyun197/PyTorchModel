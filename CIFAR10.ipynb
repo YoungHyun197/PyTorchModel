{
  "nbformat": 4,
  "nbformat_minor": 0,
  "metadata": {
    "colab": {
      "name": "_10.2 파이토치 CIFAR10 모델.ipynb",
      "provenance": [],
      "collapsed_sections": []
    },
    "kernelspec": {
      "name": "python3",
      "display_name": "Python 3"
    },
    "accelerator": "GPU"
  },
  "cells": [
    {
      "cell_type": "markdown",
      "metadata": {
        "id": "1vkk_wdHHVIh"
      },
      "source": [
        "# 파이토치 CIFAR10 모델\n",
        "- 코드 출처: https://tutorials.pytorch.kr/beginner/blitz/cifar10_tutorial.html#sphx-glr-beginner-blitz-cifar10-tutorial-py"
      ]
    },
    {
      "cell_type": "markdown",
      "metadata": {
        "id": "OXS7yCLjPBZs"
      },
      "source": [
        "## modules import"
      ]
    },
    {
      "cell_type": "code",
      "metadata": {
        "id": "P1v9luAfHXdz"
      },
      "source": [
        "import torch\n",
        "import torch.nn as nn\n",
        "import torch.nn.functional as F\n",
        "import torch.optim as optim\n",
        "from torch.utils.data import Dataset, DataLoader\n",
        "\n",
        "import torchvision\n",
        "import torchvision.datasets\n",
        "import torchvision.transforms as transforms\n",
        "\n",
        "import numpy as np\n",
        "import matplotlib.pyplot as plt\n",
        "plt.style.use('seaborn-white')"
      ],
      "execution_count": 1,
      "outputs": []
    },
    {
      "cell_type": "markdown",
      "metadata": {
        "id": "02LdHlTTSz5L"
      },
      "source": [
        "- 현재 GPU 설정"
      ]
    },
    {
      "cell_type": "code",
      "metadata": {
        "id": "Ybsjn80uSx3X",
        "colab": {
          "base_uri": "https://localhost:8080/"
        },
        "outputId": "a75fcf58-8f4b-4106-aa6e-c9c481c294ff"
      },
      "source": [
        "torch.cuda.is_available()"
      ],
      "execution_count": 2,
      "outputs": [
        {
          "output_type": "execute_result",
          "data": {
            "text/plain": [
              "True"
            ]
          },
          "metadata": {},
          "execution_count": 2
        }
      ]
    },
    {
      "cell_type": "code",
      "metadata": {
        "id": "HlPZI5wfDQhv"
      },
      "source": [
        "use_cuda = torch.cuda.is_available()\n",
        "device = torch.device(\"cuda\" if use_cuda else \"cpu\")"
      ],
      "execution_count": 3,
      "outputs": []
    },
    {
      "cell_type": "code",
      "metadata": {
        "id": "ykIP4ceaSCib",
        "colab": {
          "base_uri": "https://localhost:8080/"
        },
        "outputId": "9e003c2d-630b-45eb-a3e0-2e87b76f89e8"
      },
      "source": [
        "device"
      ],
      "execution_count": 4,
      "outputs": [
        {
          "output_type": "execute_result",
          "data": {
            "text/plain": [
              "device(type='cuda')"
            ]
          },
          "metadata": {},
          "execution_count": 4
        }
      ]
    },
    {
      "cell_type": "markdown",
      "metadata": {
        "id": "wD3z029XPFK0"
      },
      "source": [
        "## 전처리 설정"
      ]
    },
    {
      "cell_type": "code",
      "metadata": {
        "id": "4u3-pXWIPCiM"
      },
      "source": [
        "transform = transforms.Compose([transforms.ToTensor(),\n",
        "                               transforms.Normalize((0.5, 0.5, 0.5), (0.5, 0.5, 0.5))])"
      ],
      "execution_count": 5,
      "outputs": []
    },
    {
      "cell_type": "markdown",
      "metadata": {
        "id": "a4HzFx19PNYv"
      },
      "source": [
        "## 데이터 로드 및 확인"
      ]
    },
    {
      "cell_type": "code",
      "metadata": {
        "id": "ctstlIt_PM9z",
        "colab": {
          "base_uri": "https://localhost:8080/"
        },
        "outputId": "823cbcf6-3511-4c72-ff80-b4f2bcd1050a"
      },
      "source": [
        "trainset = torchvision.datasets.CIFAR10(root='/data',\n",
        "                                        train=True,\n",
        "                                        download = True,\n",
        "                                        transform=transform)\n",
        "\n",
        "testset = torchvision.datasets.CIFAR10(root='/data',\n",
        "                                        train=False,\n",
        "                                        download = True,\n",
        "                                        transform=transform)"
      ],
      "execution_count": 6,
      "outputs": [
        {
          "output_type": "stream",
          "name": "stdout",
          "text": [
            "Files already downloaded and verified\n",
            "Files already downloaded and verified\n"
          ]
        }
      ]
    },
    {
      "cell_type": "code",
      "metadata": {
        "id": "wTkTcictPTyY"
      },
      "source": [
        "train_loader = DataLoader(trainset, \n",
        "                          batch_size = 4,\n",
        "                          shuffle = True,\n",
        "                          num_workers=2)\n",
        "\n",
        "test_loader = DataLoader(testset,\n",
        "                         batch_size = 4,\n",
        "                         shuffle = False,\n",
        "                         num_workers = 2)"
      ],
      "execution_count": 7,
      "outputs": []
    },
    {
      "cell_type": "code",
      "metadata": {
        "id": "_6IsY5CrPZ5e"
      },
      "source": [
        "classes = ('plane', 'car', 'bird', 'cat', 'deer',\n",
        "           'dog', 'frog', 'horse', 'ship', 'truck')"
      ],
      "execution_count": 8,
      "outputs": []
    },
    {
      "cell_type": "code",
      "metadata": {
        "id": "wmgikI6DPadZ",
        "colab": {
          "base_uri": "https://localhost:8080/",
          "height": 153
        },
        "outputId": "929965d7-5d1b-4c61-cd25-cb133a0a3ca7"
      },
      "source": [
        "def imshow(img):\n",
        "  img = img / 2 + 0.5 # 이미지 unnormalize\n",
        "  npimg = img.numpy() # 이미지를 넘파이 형태로 변환 \n",
        "  plt.imshow(np.transpose(npimg, (1, 2, 0))) # 기존의 파이토치텐서와 구조가 다르므로 transpose\n",
        "  plt.show()\n",
        "\n",
        "dataiter = iter(train_loader)\n",
        "images, labels = dataiter.next()\n",
        "\n",
        "imshow(torchvision.utils.make_grid(images))\n",
        "print(''.join('{}\\t'.format(classes[labels[j]]) for j in range(4)))"
      ],
      "execution_count": 9,
      "outputs": [
        {
          "output_type": "display_data",
          "data": {
            "text/plain": [
              "<Figure size 432x288 with 1 Axes>"
            ],
            "image/png": "[encoded data removed]"
          },
          "metadata": {
            "needs_background": "light"
          }
        },
        {
          "output_type": "stream",
          "name": "stdout",
          "text": [
            "cat\tdeer\thorse\tship\t\n"
          ]
        }
      ]
    },
    {
      "cell_type": "markdown",
      "metadata": {
        "id": "hZgB4eq0Pk6c"
      },
      "source": [
        "## 신경망 구성"
      ]
    },
    {
      "cell_type": "code",
      "metadata": {
        "id": "E2OMzoFHPeFZ"
      },
      "source": [
        "class Net(nn.Module):\n",
        "  def __init__(self):\n",
        "    super(Net, self).__init__()\n",
        "\n",
        "    self.conv1 = nn.Conv2d(3, 6, 5)\n",
        "    self.pool = nn.MaxPool2d(2,2)\n",
        "    self.conv2 = nn.Conv2d(6,16,5)\n",
        "    self.fc1 = nn.Linear(16 * 5 * 5, 120)\n",
        "    self.fc2 = nn.Linear(120, 84)\n",
        "    self.fc3 = nn.Linear(84, 10)\n",
        "\n",
        "  def forward(self, x):\n",
        "    x = self.pool(F.relu(self.conv1(x)))\n",
        "    x = self.pool(F.relu(self.conv2(x)))\n",
        "    x = x.view(-1, 16*5*5)\n",
        "    x = F.relu(self.fc1(x))\n",
        "    x = F.relu(self.fc2(x))\n",
        "    x = self.fc3(x)\n",
        "\n",
        "    return x\n",
        "\n",
        "net = Net().to(device)"
      ],
      "execution_count": 10,
      "outputs": []
    },
    {
      "cell_type": "markdown",
      "metadata": {
        "id": "gogmHThzPrjK"
      },
      "source": [
        "## 손실함수와 옵티마이저"
      ]
    },
    {
      "cell_type": "code",
      "metadata": {
        "id": "X5SzxufZPpel"
      },
      "source": [
        "criterion = nn.CrossEntropyLoss()\n",
        "optimizer = optim.SGD(net.parameters(), lr = 0.001, momentum=0.9)\n"
      ],
      "execution_count": 11,
      "outputs": []
    },
    {
      "cell_type": "markdown",
      "metadata": {
        "id": "_UnbIcKaPyQv"
      },
      "source": [
        "## 모델 학습"
      ]
    },
    {
      "cell_type": "markdown",
      "metadata": {
        "id": "QYuEUHwGQELv"
      },
      "source": [
        "- 설명을 위해 `epochs=2`로 지정"
      ]
    },
    {
      "cell_type": "code",
      "metadata": {
        "id": "jlWiR3LwPuwa",
        "colab": {
          "base_uri": "https://localhost:8080/"
        },
        "outputId": "c804f03c-2970-43af-f05f-9b4252c4d30f"
      },
      "source": [
        "for epoch in range(10):\n",
        "  running_loss = 0.0\n",
        "\n",
        "  for i, data in enumerate(train_loader, 0):\n",
        "    inputs, labels = data[0].to(device), data[1].to(device)\n",
        "\n",
        "    optimizer.zero_grad()\n",
        "\n",
        "    outputs = net(inputs)\n",
        "    loss = criterion(outputs, labels)\n",
        "    loss.backward()\n",
        "    optimizer.step()\n",
        "\n",
        "    running_loss += loss.item()\n",
        "    if i % 2000 == 1999:\n",
        "      print(\"Epoch: {}, Batch: {}, Loss: {}\".format(epoch+1, i+1, running_loss/2000))\n",
        "      running_loss = 0.0 "
      ],
      "execution_count": 12,
      "outputs": [
        {
          "output_type": "stream",
          "name": "stdout",
          "text": [
            "Epoch: 1, Batch: 2000, Loss: 2.1729349130392075\n",
            "Epoch: 1, Batch: 4000, Loss: 1.843393863260746\n",
            "Epoch: 1, Batch: 6000, Loss: 1.649244352504611\n",
            "Epoch: 1, Batch: 8000, Loss: 1.5486958947330713\n",
            "Epoch: 1, Batch: 10000, Loss: 1.505064813055098\n",
            "Epoch: 1, Batch: 12000, Loss: 1.468101315110922\n",
            "Epoch: 2, Batch: 2000, Loss: 1.4031962781697511\n",
            "Epoch: 2, Batch: 4000, Loss: 1.3509701145105064\n",
            "Epoch: 2, Batch: 6000, Loss: 1.3862365200072526\n",
            "Epoch: 2, Batch: 8000, Loss: 1.3130750149711967\n",
            "Epoch: 2, Batch: 10000, Loss: 1.309104554861784\n",
            "Epoch: 2, Batch: 12000, Loss: 1.2854996697977186\n",
            "Epoch: 3, Batch: 2000, Loss: 1.2333984743505717\n",
            "Epoch: 3, Batch: 4000, Loss: 1.2099062518067658\n",
            "Epoch: 3, Batch: 6000, Loss: 1.2287235426157712\n",
            "Epoch: 3, Batch: 8000, Loss: 1.1898694035857915\n",
            "Epoch: 3, Batch: 10000, Loss: 1.2005444904565812\n",
            "Epoch: 3, Batch: 12000, Loss: 1.2034232512339949\n",
            "Epoch: 4, Batch: 2000, Loss: 1.1049938486739994\n",
            "Epoch: 4, Batch: 4000, Loss: 1.1202414672393353\n",
            "Epoch: 4, Batch: 6000, Loss: 1.1335507455915212\n",
            "Epoch: 4, Batch: 8000, Loss: 1.1131913442872465\n",
            "Epoch: 4, Batch: 10000, Loss: 1.120719937818125\n",
            "Epoch: 4, Batch: 12000, Loss: 1.1060383319770917\n",
            "Epoch: 5, Batch: 2000, Loss: 1.0089268150292336\n",
            "Epoch: 5, Batch: 4000, Loss: 1.051203793884255\n",
            "Epoch: 5, Batch: 6000, Loss: 1.0504005930917337\n",
            "Epoch: 5, Batch: 8000, Loss: 1.0468042234499007\n",
            "Epoch: 5, Batch: 10000, Loss: 1.0409726066589355\n",
            "Epoch: 5, Batch: 12000, Loss: 1.0625198754370213\n",
            "Epoch: 6, Batch: 2000, Loss: 0.9594606024902314\n",
            "Epoch: 6, Batch: 4000, Loss: 0.9851747864088974\n",
            "Epoch: 6, Batch: 6000, Loss: 0.9810122347930447\n",
            "Epoch: 6, Batch: 8000, Loss: 0.9815735945496709\n",
            "Epoch: 6, Batch: 10000, Loss: 0.994802642303519\n",
            "Epoch: 6, Batch: 12000, Loss: 1.0053234315959272\n",
            "Epoch: 7, Batch: 2000, Loss: 0.892457903384231\n",
            "Epoch: 7, Batch: 4000, Loss: 0.9264431269583292\n",
            "Epoch: 7, Batch: 6000, Loss: 0.9242967484975234\n",
            "Epoch: 7, Batch: 8000, Loss: 0.9697203781977296\n",
            "Epoch: 7, Batch: 10000, Loss: 0.9280093313041143\n",
            "Epoch: 7, Batch: 12000, Loss: 0.9653340965716634\n",
            "Epoch: 8, Batch: 2000, Loss: 0.851151405552635\n",
            "Epoch: 8, Batch: 4000, Loss: 0.8693690386527451\n",
            "Epoch: 8, Batch: 6000, Loss: 0.8930975841232576\n",
            "Epoch: 8, Batch: 8000, Loss: 0.8870580425634981\n",
            "Epoch: 8, Batch: 10000, Loss: 0.9245644634626806\n",
            "Epoch: 8, Batch: 12000, Loss: 0.9336785113089718\n",
            "Epoch: 9, Batch: 2000, Loss: 0.8031319225265179\n",
            "Epoch: 9, Batch: 4000, Loss: 0.8332288029380143\n",
            "Epoch: 9, Batch: 6000, Loss: 0.847731871867436\n",
            "Epoch: 9, Batch: 8000, Loss: 0.8755138763997238\n",
            "Epoch: 9, Batch: 10000, Loss: 0.8778502657625359\n",
            "Epoch: 9, Batch: 12000, Loss: 0.9039849083805457\n",
            "Epoch: 10, Batch: 2000, Loss: 0.740860603891313\n",
            "Epoch: 10, Batch: 4000, Loss: 0.8219103847156511\n",
            "Epoch: 10, Batch: 6000, Loss: 0.8112094263191102\n",
            "Epoch: 10, Batch: 8000, Loss: 0.861960671632085\n",
            "Epoch: 10, Batch: 10000, Loss: 0.8449077467350289\n",
            "Epoch: 10, Batch: 12000, Loss: 0.8639844956244342\n"
          ]
        }
      ]
    },
    {
      "cell_type": "markdown",
      "metadata": {
        "id": "NqYnwxJ3P8Gb"
      },
      "source": [
        "## 모델의 저장 및 로드"
      ]
    },
    {
      "cell_type": "code",
      "metadata": {
        "id": "z6UYtCT4P3Tj"
      },
      "source": [
        "PATH = './cifar_net.pth'\n",
        "torch.save(net.state_dict(), PATH)"
      ],
      "execution_count": 13,
      "outputs": []
    },
    {
      "cell_type": "code",
      "source": [
        ""
      ],
      "metadata": {
        "id": "KcukyA3OElUb"
      },
      "execution_count": null,
      "outputs": []
    },
    {
      "cell_type": "code",
      "metadata": {
        "id": "keqtypx1QY6t",
        "colab": {
          "base_uri": "https://localhost:8080/",
          "height": 153
        },
        "outputId": "76a7a768-11ab-48e2-efde-ff580f933cc2"
      },
      "source": [
        "dataiter = iter(test_loader)\n",
        "images, labels = dataiter.next()\n",
        "\n",
        "imshow(torchvision.utils.make_grid(images))\n",
        "print(''.join('\\t{}'.format(classes[labels[j]]) for j in range(4)))"
      ],
      "execution_count": 14,
      "outputs": [
        {
          "output_type": "display_data",
          "data": {
            "text/plain": [
              "<Figure size 432x288 with 1 Axes>"
            ],
            "image/png": "[encoded data removed]"
          },
          "metadata": {
            "needs_background": "light"
          }
        },
        {
          "output_type": "stream",
          "name": "stdout",
          "text": [
            "\tcat\tship\tship\tplane\n"
          ]
        }
      ]
    },
    {
      "cell_type": "code",
      "metadata": {
        "id": "FfsXzP9NQbMg",
        "colab": {
          "base_uri": "https://localhost:8080/"
        },
        "outputId": "62181cdb-0635-40d8-8668-744dcde76340"
      },
      "source": [
        "net = Net().to(device)\n",
        "net.load_state_dict(torch.load(PATH))"
      ],
      "execution_count": 15,
      "outputs": [
        {
          "output_type": "execute_result",
          "data": {
            "text/plain": [
              "<All keys matched successfully>"
            ]
          },
          "metadata": {},
          "execution_count": 15
        }
      ]
    },
    {
      "cell_type": "markdown",
      "metadata": {
        "id": "1dvGiVkrQ2cf"
      },
      "source": [
        "## 모델 테스트"
      ]
    },
    {
      "cell_type": "code",
      "metadata": {
        "id": "8tsbxJwEQg_T"
      },
      "source": [
        "outputs = net(images.to(device))"
      ],
      "execution_count": 16,
      "outputs": []
    },
    {
      "cell_type": "code",
      "metadata": {
        "id": "LJyKtGtOQjDM",
        "colab": {
          "base_uri": "https://localhost:8080/"
        },
        "outputId": "24a1423d-8f02-40bb-8556-b19383416d5a"
      },
      "source": [
        "_, predicted = torch.max(outputs, 1)\n",
        "print(' '.join('\\t{}'.format(classes[predicted[j]]) for j in range(4)))"
      ],
      "execution_count": 17,
      "outputs": [
        {
          "output_type": "stream",
          "name": "stdout",
          "text": [
            "\tdeer \tship \tcar \tplane\n"
          ]
        }
      ]
    },
    {
      "cell_type": "code",
      "metadata": {
        "id": "ajGFbhDvQtlp",
        "colab": {
          "base_uri": "https://localhost:8080/"
        },
        "outputId": "2cfcb4be-084f-4b3f-e7c3-ca30a0199cec"
      },
      "source": [
        "correct = 0\n",
        "total = 0\n",
        "\n",
        "with torch.no_grad():\n",
        "  for data in test_loader:\n",
        "    images, lables = data[0].to(device), data[1].to(device)\n",
        "    outputs = net(images)\n",
        "    _, predicted = torch.max(outputs.data, 1) # 제일 높은 확률 1개만 가져오기\n",
        "    total += labels.size(0)\n",
        "    correct += (predicted == labels.to(device)).sum().item()\n",
        "\n",
        "print(100 * correct / total)"
      ],
      "execution_count": 21,
      "outputs": [
        {
          "output_type": "stream",
          "name": "stdout",
          "text": [
            "10.67\n"
          ]
        }
      ]
    },
    {
      "cell_type": "markdown",
      "metadata": {
        "id": "trWVf5YvRYI0"
      },
      "source": [
        "- 어떤 것을 잘 분류했고, 잘 못했는지 확인"
      ]
    },
    {
      "cell_type": "code",
      "metadata": {
        "id": "P9p7QKhDQzpC",
        "colab": {
          "base_uri": "https://localhost:8080/"
        },
        "outputId": "7aa71a58-9632-4826-d420-2ab20a5b3cd2"
      },
      "source": [
        "class_correct = list(0. for i in range(10))\n",
        "class_total = list(0. for i in range(10))\n",
        "\n",
        "with torch.no_grad():\n",
        "  for data in test_loader:\n",
        "    images, labels = data[0].to(device), data[1].to(device)\n",
        "    outputs = net(images.to(device))\n",
        "    _, predicted = torch.max(outputs.data, 1)\n",
        "    c = (predicted.to(device) == labels.to(device)).squeeze()\n",
        "    for i in range(4):\n",
        "      label = labels[i]\n",
        "      class_correct[label] += c[i].item()\n",
        "      class_total[label] += 1\n",
        "\n",
        "  for i in range(10):\n",
        "    print(\"Accuracy of {}: {}%\".format(classes[i], 100 * class_correct[i] / class_total[i]))    \n",
        "\n",
        "  \n"
      ],
      "execution_count": 27,
      "outputs": [
        {
          "output_type": "stream",
          "name": "stdout",
          "text": [
            "Accuracy of plane: 66.4%\n",
            "Accuracy of car: 68.7%\n",
            "Accuracy of bird: 44.3%\n",
            "Accuracy of cat: 50.5%\n",
            "Accuracy of deer: 56.5%\n",
            "Accuracy of dog: 49.7%\n",
            "Accuracy of frog: 78.9%\n",
            "Accuracy of horse: 66.0%\n",
            "Accuracy of ship: 74.7%\n",
            "Accuracy of truck: 74.0%\n"
          ]
        }
      ]
    }
  ]
}