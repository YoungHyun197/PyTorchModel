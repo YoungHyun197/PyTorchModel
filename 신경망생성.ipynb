{
  "nbformat": 4,
  "nbformat_minor": 0,
  "metadata": {
    "colab": {
      "name": "신경망생성.ipynb",
      "provenance": []
    },
    "kernelspec": {
      "name": "python3",
      "display_name": "Python 3"
    },
    "language_info": {
      "name": "python"
    }
  },
  "cells": [
    {
      "cell_type": "code",
      "execution_count": 2,
      "metadata": {
        "id": "mtUg1iSpVGH4"
      },
      "outputs": [],
      "source": [
        "import torch\n",
        "import torch.nn as nn\n",
        "import torch.nn.functional as F"
      ]
    },
    {
      "cell_type": "code",
      "source": [
        "class Net(nn.Module):\n",
        "    def __init__(self):\n",
        "        # __init__ 함수에서는 신경망에 쓰일 각각의 layer들을 초기화 \n",
        "        super(Net, self).__init__() \n",
        "    \n",
        "        self.conv1 = nn.Conv2d(1, 6, 3)\n",
        "        self.conv2 = nn.Conv2d(6, 16, 3)\n",
        "        self.fc1 = nn.Linear(16 * 6 * 6, 120) # 6x6 이미지 차원, 120 output\n",
        "        self.fc2 = nn.Linear(120, 84) \n",
        "        self.fc3 = nn.Linear(84, 10) # 최종 output은 10으로 줄어듦\n",
        "\n",
        "    def forward(self, x):\n",
        "        # 앞서 정의해둔 layer들을 어떤 식으로 사용할지 forward에서 결정\n",
        "        # 입력으로 들어온 x가 conv1을 통과후 relu를 거친후 맥스풀링 \n",
        "        x = F.max_pool2d(F.relu(self.conv1(x)), (2, 2))\n",
        "        x = F.max_pool2d(F.relu(self.conv2(x)), 2)\n",
        "        x = x.view(-1, self.num_flat_features(x)) # flat하게 펼쳐준다\n",
        "        x = F.relu(self.fc1(x))\n",
        "        x = F.relu(self.fc2(x))\n",
        "        x = self.fc3(x)\n",
        "        return x\n",
        "    \n",
        "    def num_falt_features(self, x):\n",
        "        size = x.size()[1:]\n",
        "        num_features = 1\n",
        "        for s in size:\n",
        "            num_features *= s \n",
        "        \n",
        "        return num_features\n"
      ],
      "metadata": {
        "id": "KHPLKmjNWnDW"
      },
      "execution_count": 3,
      "outputs": []
    },
    {
      "cell_type": "code",
      "source": [
        "\n",
        "net = Net()\n",
        "print(net)"
      ],
      "metadata": {
        "id": "EsR1NJxlWppT",
        "colab": {
          "base_uri": "https://localhost:8080/"
        },
        "outputId": "28ff47de-aae7-47f5-a4bd-09c38a750c53"
      },
      "execution_count": 4,
      "outputs": [
        {
          "output_type": "stream",
          "name": "stdout",
          "text": [
            "Net(\n",
            "  (conv1): Conv2d(1, 6, kernel_size=(3, 3), stride=(1, 1))\n",
            "  (conv2): Conv2d(6, 16, kernel_size=(3, 3), stride=(1, 1))\n",
            "  (fc1): Linear(in_features=576, out_features=120, bias=True)\n",
            "  (fc2): Linear(in_features=120, out_features=84, bias=True)\n",
            "  (fc3): Linear(in_features=84, out_features=10, bias=True)\n",
            ")\n"
          ]
        }
      ]
    },
    {
      "cell_type": "code",
      "source": [
        ""
      ],
      "metadata": {
        "id": "StKxR_p8WqQ9"
      },
      "execution_count": 4,
      "outputs": []
    },
    {
      "cell_type": "markdown",
      "source": [
        "선형회귀 (Regression Model 생성)"
      ],
      "metadata": {
        "id": "dsOZoSSnrin-"
      }
    },
    {
      "cell_type": "code",
      "source": [
        "import torch\n",
        "import torch.nn as nn\n",
        "import torch.optim as optim\n",
        "\n",
        "import numpy as np\n",
        "import matplotlib.pyplot as plt\n",
        "plt.style.use('seaborn-white')"
      ],
      "metadata": {
        "id": "6DcigqIaWsEP"
      },
      "execution_count": 5,
      "outputs": []
    },
    {
      "cell_type": "code",
      "source": [
        "X = torch.randn(100, 1)*10\n",
        "y = X + 3 * torch.randn(100, 1)\n",
        "plt.plot(X.numpy(), y.numpy(), 'o')\n",
        "plt.ylabel('y')\n",
        "plt.xlabel('x')\n",
        "plt.grid()\n",
        "plt.show()"
      ],
      "metadata": {
        "id": "oly5hNEUWszd",
        "colab": {
          "base_uri": "https://localhost:8080/",
          "height": 278
        },
        "outputId": "c6c72b96-7d2e-40c2-e5c1-18d626f8de2a"
      },
      "execution_count": 31,
      "outputs": [
        {
          "output_type": "display_data",
          "data": {
            "image/png": "[encoded data removed]",
            "text/plain": [
              "<Figure size 432x288 with 1 Axes>"
            ]
          },
          "metadata": {}
        }
      ]
    },
    {
      "cell_type": "code",
      "source": [
        "# 신경망 이름을 설정해준뒤 nn.Module을 상속받는다. \n",
        "class LinearRegressionModel(nn.Module):\n",
        "  # 신경망에서 사용할 layer를 정의 \n",
        "  def __init__(self):\n",
        "    super(LinearRegressionModel, self).__init__()\n",
        "    self.linear = nn.Linear(1, 1) # 단순히 1x1입력을 받는 선형 layer\n",
        "\n",
        "  def forward(self, x):\n",
        "    pred = self.linear(x) # 입력값을 받은후 선형 layer를 통과 시켜준 값을 반환\n",
        "    return pred\n",
        "\n",
        "  # 단순 하나의 layer만 존재하는 신경망 "
      ],
      "metadata": {
        "id": "uszbTYx5WtD9"
      },
      "execution_count": 32,
      "outputs": []
    },
    {
      "cell_type": "code",
      "source": [
        "torch.manual_seed(111)\n",
        "\n",
        "model = LinearRegressionModel()\n",
        "print(model)"
      ],
      "metadata": {
        "id": "SLBzmaMYWtJn",
        "colab": {
          "base_uri": "https://localhost:8080/"
        },
        "outputId": "33215b40-4aec-4b61-b9d3-281142c5399c"
      },
      "execution_count": 33,
      "outputs": [
        {
          "output_type": "stream",
          "name": "stdout",
          "text": [
            "LinearRegressionModel(\n",
            "  (linear): Linear(in_features=1, out_features=1, bias=True)\n",
            ")\n"
          ]
        }
      ]
    },
    {
      "cell_type": "code",
      "source": [
        "print(list(model.parameters()))"
      ],
      "metadata": {
        "id": "Ni_kGXrQWtPm",
        "colab": {
          "base_uri": "https://localhost:8080/"
        },
        "outputId": "4ca48af1-bdbe-4f02-e45c-3a89726a2ecf"
      },
      "execution_count": 19,
      "outputs": [
        {
          "output_type": "stream",
          "name": "stdout",
          "text": [
            "[Parameter containing:\n",
            "tensor([[0.4311]], requires_grad=True), Parameter containing:\n",
            "tensor([0.8280], requires_grad=True)]\n"
          ]
        }
      ]
    },
    {
      "cell_type": "code",
      "source": [
        "w, b = model.parameters()\n",
        "def get_params():\n",
        "  return w[0][0].item(), b[0].item()\n",
        "\n",
        "def plot_fit(title):\n",
        "  plt.title = title\n",
        "  w1, b1 = get_params()\n",
        "  x1 = np.array([-30, 30])\n",
        "  y1 = w1 * x1 + b1\n",
        "  plt.plot(x1, y1, 'r')\n",
        "  plt.scatter(X, y)\n",
        "  plt.show()\n",
        "\n",
        "plot_fit('Initial Model')"
      ],
      "metadata": {
        "id": "Z7Tahm5mWtTy",
        "colab": {
          "base_uri": "https://localhost:8080/",
          "height": 264
        },
        "outputId": "70f9621b-8f8e-4cc8-86ec-94f55cc0847a"
      },
      "execution_count": 34,
      "outputs": [
        {
          "output_type": "display_data",
          "data": {
            "image/png": "[encoded data removed]",
            "text/plain": [
              "<Figure size 432x288 with 1 Axes>"
            ]
          },
          "metadata": {}
        }
      ]
    },
    {
      "cell_type": "code",
      "source": [
        ""
      ],
      "metadata": {
        "id": "_Pm9sr2OWtYw"
      },
      "execution_count": null,
      "outputs": []
    },
    {
      "cell_type": "markdown",
      "source": [
        "## 손실함수와 옵티마이저"
      ],
      "metadata": {
        "id": "ZZDNA18qlKmW"
      }
    },
    {
      "cell_type": "code",
      "source": [
        "criterion = nn.MSELoss()\n",
        "optimizer = optim.SGD(model.parameters(), lr=0.001)"
      ],
      "metadata": {
        "id": "dvMMzgK-WtdS"
      },
      "execution_count": 35,
      "outputs": []
    },
    {
      "cell_type": "code",
      "source": [
        ""
      ],
      "metadata": {
        "id": "7xVLqYWbWtj_"
      },
      "execution_count": 12,
      "outputs": []
    },
    {
      "cell_type": "code",
      "source": [
        ""
      ],
      "metadata": {
        "id": "N8kGfhMGoPn5"
      },
      "execution_count": null,
      "outputs": []
    },
    {
      "cell_type": "markdown",
      "source": [
        "## 모델 학습"
      ],
      "metadata": {
        "id": "wWCbmHBUldhr"
      }
    },
    {
      "cell_type": "code",
      "source": [
        "epochs = 100 # 100번 반복\n",
        "losses = [] \n",
        "for epoch in range(epochs):\n",
        "  optimizer.zero_grad() # 매개변수 0으로 초기화  \n",
        "\n",
        "  y_pred = model(X) # 모델의 예측값 \n",
        "  loss = criterion(y_pred, y) # MSE loss 사용\n",
        "  losses.append(loss) # 리스트에 loss값들을 추가\n",
        "  loss.backward() # 역전파\n",
        "\n",
        "  optimizer.step() # lr을 반영\n",
        "\n",
        "  if epoch % 10 ==0:\n",
        "    print(f\"Epoch: {epoch+1}\\t {loss:.4f}\")\n",
        "\n",
        "  "
      ],
      "metadata": {
        "colab": {
          "base_uri": "https://localhost:8080/"
        },
        "id": "lZSkL2H0la8u",
        "outputId": "f8af8bef-9ab7-40f1-b42f-db2558f1713a"
      },
      "execution_count": 36,
      "outputs": [
        {
          "output_type": "stream",
          "name": "stdout",
          "text": [
            "Epoch: 1\t 47.0144\n",
            "Epoch: 11\t 11.3691\n",
            "Epoch: 21\t 11.1018\n",
            "Epoch: 31\t 11.0481\n",
            "Epoch: 41\t 10.9977\n",
            "Epoch: 51\t 10.9493\n",
            "Epoch: 61\t 10.9028\n",
            "Epoch: 71\t 10.8581\n",
            "Epoch: 81\t 10.8151\n",
            "Epoch: 91\t 10.7739\n"
          ]
        }
      ]
    },
    {
      "cell_type": "markdown",
      "source": [
        "## 시각화"
      ],
      "metadata": {
        "id": "H_yIKIlurhE2"
      }
    },
    {
      "cell_type": "code",
      "source": [
        "plt.plot(range(epochs), torch.Tensor(losses))\n",
        "plt.ylabel('Loss')\n",
        "plt.xlabel('Epoch')\n",
        "plt.show()"
      ],
      "metadata": {
        "colab": {
          "base_uri": "https://localhost:8080/",
          "height": 276
        },
        "id": "bZO12UH5lbWu",
        "outputId": "0178ea36-d4b1-41cd-8ad0-0c817704fad3"
      },
      "execution_count": 40,
      "outputs": [
        {
          "output_type": "display_data",
          "data": {
            "image/png": "[encoded data removed]",
            "text/plain": [
              "<Figure size 432x288 with 1 Axes>"
            ]
          },
          "metadata": {}
        }
      ]
    },
    {
      "cell_type": "code",
      "source": [
        "plot_fit(\"Trained Model\")"
      ],
      "metadata": {
        "colab": {
          "base_uri": "https://localhost:8080/",
          "height": 262
        },
        "id": "wrAMME2Dlbb-",
        "outputId": "a8261435-cd29-4cd9-a901-063c9c83fe59"
      },
      "execution_count": 39,
      "outputs": [
        {
          "output_type": "display_data",
          "data": {
            "image/png": "[encoded data removed]",
            "text/plain": [
              "<Figure size 432x288 with 1 Axes>"
            ]
          },
          "metadata": {}
        }
      ]
    },
    {
      "cell_type": "code",
      "source": [
        ""
      ],
      "metadata": {
        "id": "RJGiwMpWlbhQ"
      },
      "execution_count": null,
      "outputs": []
    },
    {
      "cell_type": "code",
      "source": [
        ""
      ],
      "metadata": {
        "id": "ZxeytwuGlbmi"
      },
      "execution_count": null,
      "outputs": []
    },
    {
      "cell_type": "code",
      "source": [
        ""
      ],
      "metadata": {
        "id": "tOqaaewGlbsJ"
      },
      "execution_count": null,
      "outputs": []
    },
    {
      "cell_type": "code",
      "source": [
        ""
      ],
      "metadata": {
        "id": "CBvc_8e5lbxx"
      },
      "execution_count": null,
      "outputs": []
    },
    {
      "cell_type": "code",
      "source": [
        ""
      ],
      "metadata": {
        "id": "NTqukRCslb3C"
      },
      "execution_count": null,
      "outputs": []
    },
    {
      "cell_type": "code",
      "source": [
        ""
      ],
      "metadata": {
        "id": "DZM-InKxlb8r"
      },
      "execution_count": null,
      "outputs": []
    },
    {
      "cell_type": "code",
      "source": [
        ""
      ],
      "metadata": {
        "id": "-9cLB93glcCq"
      },
      "execution_count": null,
      "outputs": []
    },
    {
      "cell_type": "code",
      "source": [
        ""
      ],
      "metadata": {
        "id": "78ODM52flcJu"
      },
      "execution_count": null,
      "outputs": []
    },
    {
      "cell_type": "code",
      "source": [
        ""
      ],
      "metadata": {
        "id": "cgv2FBAGlcXb"
      },
      "execution_count": null,
      "outputs": []
    }
  ]
}